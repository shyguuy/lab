{
  "nbformat": 4,
  "nbformat_minor": 0,
  "metadata": {
    "colab": {
      "provenance": [],
      "authorship_tag": "ABX9TyO/NptwE/KPCkUKENnbZgsl",
      "include_colab_link": true
    },
    "kernelspec": {
      "name": "python3",
      "display_name": "Python 3"
    },
    "language_info": {
      "name": "python"
    }
  },
  "cells": [
    {
      "cell_type": "markdown",
      "metadata": {
        "id": "view-in-github",
        "colab_type": "text"
      },
      "source": [
        "<a href=\"https://colab.research.google.com/github/shyguuy/lab/blob/main/VerniteDiscord.ipynb\" target=\"_parent\"><img src=\"https://colab.research.google.com/assets/colab-badge.svg\" alt=\"Open In Colab\"/></a>"
      ]
    },
    {
      "cell_type": "markdown",
      "source": [
        "Выполнить команду:"
      ],
      "metadata": {
        "id": "OJpB3y0j_Ruc"
      }
    },
    {
      "cell_type": "code",
      "execution_count": null,
      "metadata": {
        "id": "lYZjygLl-Zxm"
      },
      "outputs": [],
      "source": [
        "pip install google-colab-shell"
      ]
    },
    {
      "cell_type": "markdown",
      "source": [
        "Выполнить команду:"
      ],
      "metadata": {
        "id": "VdJ2adyg_YT5"
      }
    },
    {
      "cell_type": "code",
      "source": [
        "from google_colab_shell import getshell"
      ],
      "metadata": {
        "id": "WPZ380nZ-cNP"
      },
      "execution_count": null,
      "outputs": []
    },
    {
      "cell_type": "markdown",
      "source": [
        "Выполнить команду:"
      ],
      "metadata": {
        "id": "yGOwcUo5_Zpj"
      }
    },
    {
      "cell_type": "code",
      "source": [
        "getshell()\n",
        "getshell(height=400)"
      ],
      "metadata": {
        "id": "187dBxUA-dlB"
      },
      "execution_count": null,
      "outputs": []
    },
    {
      "cell_type": "markdown",
      "source": [
        "После выполнения вставить в консоль, нажать enter\n",
        "\n",
        "\n",
        "\n",
        "\n",
        "\n",
        "curl -sSL https://raw.githubusercontent.com/ImMALWARE/bash-warp-generator/main/warp_generator.sh | bash"
      ],
      "metadata": {
        "id": "oyZO_Zr9-fkU"
      }
    },
    {
      "cell_type": "markdown",
      "source": [
        "Скопировать получившуюся ссылку и скачать файл"
      ],
      "metadata": {
        "id": "81-JRrEn_J9J"
      }
    }
  ]
}